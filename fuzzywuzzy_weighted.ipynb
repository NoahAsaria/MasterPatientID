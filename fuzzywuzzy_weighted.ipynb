{
 "cells": [
  {
   "cell_type": "code",
   "execution_count": 2,
   "metadata": {},
   "outputs": [],
   "source": [
    "import fuzzywuzzy\n",
    "from fuzzywuzzy import fuzz\n",
    "import numpy as np\n",
    "import pandas as pd"
   ]
  },
  {
   "cell_type": "code",
   "execution_count": 3,
   "metadata": {},
   "outputs": [
    {
     "data": {
      "text/html": [
       "<div>\n",
       "<style scoped>\n",
       "    .dataframe tbody tr th:only-of-type {\n",
       "        vertical-align: middle;\n",
       "    }\n",
       "\n",
       "    .dataframe tbody tr th {\n",
       "        vertical-align: top;\n",
       "    }\n",
       "\n",
       "    .dataframe thead th {\n",
       "        text-align: right;\n",
       "    }\n",
       "</style>\n",
       "<table border=\"1\" class=\"dataframe\">\n",
       "  <thead>\n",
       "    <tr style=\"text-align: right;\">\n",
       "      <th></th>\n",
       "      <th>Type of info:</th>\n",
       "      <th>PatientFile1</th>\n",
       "      <th>PatientFile2</th>\n",
       "    </tr>\n",
       "  </thead>\n",
       "  <tbody>\n",
       "    <tr>\n",
       "      <td>0</td>\n",
       "      <td>streetAddress</td>\n",
       "      <td>2135  W. Klein Ave</td>\n",
       "      <td>2315 W Klein Ave.</td>\n",
       "    </tr>\n",
       "    <tr>\n",
       "      <td>1</td>\n",
       "      <td>Given Name</td>\n",
       "      <td>Stefanie</td>\n",
       "      <td>Stephanie</td>\n",
       "    </tr>\n",
       "    <tr>\n",
       "      <td>2</td>\n",
       "      <td>Family Name</td>\n",
       "      <td>Jones</td>\n",
       "      <td>Jones</td>\n",
       "    </tr>\n",
       "    <tr>\n",
       "      <td>3</td>\n",
       "      <td>DOB</td>\n",
       "      <td>2/4/76</td>\n",
       "      <td>2/4/76</td>\n",
       "    </tr>\n",
       "    <tr>\n",
       "      <td>4</td>\n",
       "      <td>SSN</td>\n",
       "      <td>261-51-7767</td>\n",
       "      <td>261517767</td>\n",
       "    </tr>\n",
       "    <tr>\n",
       "      <td>5</td>\n",
       "      <td>Gender</td>\n",
       "      <td>F</td>\n",
       "      <td>F</td>\n",
       "    </tr>\n",
       "    <tr>\n",
       "      <td>6</td>\n",
       "      <td>Family History</td>\n",
       "      <td>History of breast cancer on father's side</td>\n",
       "      <td>Father's sister and mother had breast cancer</td>\n",
       "    </tr>\n",
       "    <tr>\n",
       "      <td>7</td>\n",
       "      <td>Race</td>\n",
       "      <td>White</td>\n",
       "      <td>White</td>\n",
       "    </tr>\n",
       "    <tr>\n",
       "      <td>8</td>\n",
       "      <td>Allergies</td>\n",
       "      <td>NaN</td>\n",
       "      <td>na</td>\n",
       "    </tr>\n",
       "    <tr>\n",
       "      <td>9</td>\n",
       "      <td>Vaccination and Date</td>\n",
       "      <td>tetanus toxoid, unspecified formulation 12/24/...</td>\n",
       "      <td>tetanus toxoid, unspecified formulation 12/24/...</td>\n",
       "    </tr>\n",
       "  </tbody>\n",
       "</table>\n",
       "</div>"
      ],
      "text/plain": [
       "          Type of info:                                       PatientFile1  \\\n",
       "0         streetAddress                                 2135  W. Klein Ave   \n",
       "1            Given Name                                           Stefanie   \n",
       "2           Family Name                                              Jones   \n",
       "3                   DOB                                             2/4/76   \n",
       "4                   SSN                                        261-51-7767   \n",
       "5                Gender                                                  F   \n",
       "6        Family History          History of breast cancer on father's side   \n",
       "7                  Race                                              White   \n",
       "8             Allergies                                                NaN   \n",
       "9  Vaccination and Date  tetanus toxoid, unspecified formulation 12/24/...   \n",
       "\n",
       "                                        PatientFile2  \n",
       "0                                  2315 W Klein Ave.  \n",
       "1                                          Stephanie  \n",
       "2                                              Jones  \n",
       "3                                             2/4/76  \n",
       "4                                          261517767  \n",
       "5                                                  F  \n",
       "6       Father's sister and mother had breast cancer  \n",
       "7                                              White  \n",
       "8                                                 na  \n",
       "9  tetanus toxoid, unspecified formulation 12/24/...  "
      ]
     },
     "execution_count": 3,
     "metadata": {},
     "output_type": "execute_result"
    }
   ],
   "source": [
    "df = pd.read_csv('fuzzywuzzypracticegoodstuff.csv')\n",
    "df.head(10)"
   ]
  },
  {
   "cell_type": "markdown",
   "metadata": {},
   "source": [
    "#### Without weights:"
   ]
  },
  {
   "cell_type": "code",
   "execution_count": 8,
   "metadata": {},
   "outputs": [
    {
     "name": "stdout",
     "output_type": "stream",
     "text": [
      "0\n",
      "94\n",
      "1\n",
      "82\n",
      "2\n",
      "100\n",
      "3\n",
      "100\n",
      "4\n",
      "90\n",
      "5\n",
      "100\n",
      "6\n",
      "71\n",
      "7\n",
      "100\n",
      "8\n",
      "80\n",
      "9\n",
      "100\n",
      "10\n",
      "100\n"
     ]
    },
    {
     "data": {
      "text/plain": [
       "0.8181818181818182"
      ]
     },
     "execution_count": 8,
     "metadata": {},
     "output_type": "execute_result"
    }
   ],
   "source": [
    "count = -1 \n",
    "def get_ratio(row):\n",
    "    global count\n",
    "    count +=1\n",
    "    print(count) #prints current row number\n",
    "    name = row['PatientFile1']\n",
    "    name1 = row['PatientFile2']\n",
    "    print (fuzz.token_set_ratio(name, name1))\n",
    "    return fuzz.token_set_ratio(name, name1)\n",
    "len(df[df.apply(get_ratio, axis=1) > 80]) / len(df)"
   ]
  },
  {
   "cell_type": "markdown",
   "metadata": {},
   "source": [
    "#### With weights on DOB, SSN, and allergies:"
   ]
  },
  {
   "cell_type": "code",
   "execution_count": 9,
   "metadata": {},
   "outputs": [
    {
     "name": "stdout",
     "output_type": "stream",
     "text": [
      "0\n",
      "94\n",
      "1\n",
      "82\n",
      "2\n",
      "100\n",
      "3\n",
      "100\n",
      "4\n",
      "90\n",
      "5\n",
      "100\n",
      "6\n",
      "71\n",
      "7\n",
      "100\n",
      "8\n",
      "80\n",
      "9\n",
      "100\n",
      "10\n",
      "100\n"
     ]
    },
    {
     "data": {
      "text/plain": [
       "0.9090909090909091"
      ]
     },
     "execution_count": 9,
     "metadata": {},
     "output_type": "execute_result"
    }
   ],
   "source": [
    "count = -1\n",
    "def get_ratio(row):\n",
    "    global count\n",
    "    count+=1\n",
    "    print (count) #prints current row number\n",
    "    name = row['PatientFile1']\n",
    "    name1 = row['PatientFile2']\n",
    "    if count == 3:\n",
    "         print(fuzz.token_set_ratio(name, name1)*1.2)\n",
    "         return fuzz.token_set_ratio(name, name1)*1.2\n",
    "    if count == 4:\n",
    "         print(fuzz.token_set_ratio(name, name1)*1.25)\n",
    "         return fuzz.token_set_ratio(name, name1)*1.25\n",
    "    if count == 8:\n",
    "         print(fuzz.token_set_ratio(name, name1)*1.3)\n",
    "         return fuzz.token_set_ratio(name, name1)*1.3\n",
    "    else:\n",
    "        print(fuzz.token_set_ratio(name, name1))\n",
    "        return fuzz.token_set_ratio(name, name1)\n",
    "len(df[df.apply(get_ratio, axis=1) > 80]) / len(df)"
   ]
  },
  {
   "cell_type": "code",
   "execution_count": null,
   "metadata": {},
   "outputs": [],
   "source": []
  }
 ],
 "metadata": {
  "kernelspec": {
   "display_name": "Python 3",
   "language": "python",
   "name": "python3"
  },
  "language_info": {
   "codemirror_mode": {
    "name": "ipython",
    "version": 3
   },
   "file_extension": ".py",
   "mimetype": "text/x-python",
   "name": "python",
   "nbconvert_exporter": "python",
   "pygments_lexer": "ipython3",
   "version": "3.7.4"
  }
 },
 "nbformat": 4,
 "nbformat_minor": 4
}
