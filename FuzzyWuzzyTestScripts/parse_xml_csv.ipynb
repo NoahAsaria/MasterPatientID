{
 "cells": [
  {
   "cell_type": "markdown",
   "metadata": {},
   "source": [
    "### ElementTree Parsing CCD doc"
   ]
  },
  {
   "cell_type": "code",
   "execution_count": 1,
   "metadata": {},
   "outputs": [
    {
     "data": {
      "text/plain": [
       "'{urn:hl7-org:v3}ClinicalDocument'"
      ]
     },
     "execution_count": 1,
     "metadata": {},
     "output_type": "execute_result"
    }
   ],
   "source": [
    "from xml.etree import ElementTree\n",
    "import xml.etree.ElementTree as ET\n",
    "import csv\n",
    "tree = ET.parse(\"IsabellaJones-ReferralSummary.xml\")\n",
    "root = tree.getroot()\n",
    "root.tag"
   ]
  },
  {
   "cell_type": "code",
   "execution_count": 2,
   "metadata": {},
   "outputs": [
    {
     "name": "stdout",
     "output_type": "stream",
     "text": [
      "{urn:hl7-org:v3}realmCode {'code': 'US'}\n",
      "{urn:hl7-org:v3}typeId {'root': '2.16.840.1.113883.1.3', 'extension': 'POCD_HD000040'}\n",
      "{urn:hl7-org:v3}templateId {'root': '2.16.840.1.113883.10.20.22.1.1'}\n",
      "{urn:hl7-org:v3}templateId {'root': '2.16.840.1.113883.10.20.22.1.2'}\n",
      "{urn:hl7-org:v3}id {'root': '2.16.840.1.113883.3.3388.1.1.1', 'extension': '310936'}\n",
      "{urn:hl7-org:v3}code {'code': '34133-9', 'codeSystem': '2.16.840.1.113883.6.1', 'codeSystemName': 'LOINC', 'displayName': 'Summarization of episode note'}\n",
      "{urn:hl7-org:v3}title {'{http://www.w3.org/2001/XMLSchema-instance}type': 'SC'}\n",
      "{urn:hl7-org:v3}effectiveTime {'{http://www.w3.org/2001/XMLSchema-instance}type': 'IVL_TS', 'value': '20140307121613'}\n",
      "{urn:hl7-org:v3}confidentialityCode {'code': 'R', 'codeSystem': '2.16.840.1.113883.5.25', 'codeSystemName': 'Confidentiality', 'displayName': 'Restricted'}\n",
      "{urn:hl7-org:v3}languageCode {'code': 'en-US'}\n",
      "{urn:hl7-org:v3}recordTarget {}\n",
      "{urn:hl7-org:v3}author {}\n",
      "{urn:hl7-org:v3}author {}\n",
      "{urn:hl7-org:v3}dataEnterer {}\n",
      "{urn:hl7-org:v3}custodian {}\n",
      "{urn:hl7-org:v3}legalAuthenticator {}\n",
      "{urn:hl7-org:v3}documentationOf {}\n",
      "{urn:hl7-org:v3}componentOf {}\n",
      "{urn:hl7-org:v3}component {}\n"
     ]
    }
   ],
   "source": [
    "for child in root:\n",
    "    print(child.tag,child.attrib)"
   ]
  },
  {
   "cell_type": "code",
   "execution_count": 3,
   "metadata": {},
   "outputs": [],
   "source": [
    "#[elem.tag for elem in root.iter()]"
   ]
  },
  {
   "cell_type": "code",
   "execution_count": 4,
   "metadata": {},
   "outputs": [
    {
     "name": "stdout",
     "output_type": "stream",
     "text": [
      "Isabella\n"
     ]
    }
   ],
   "source": [
    "Patient_data = open('xmltocsv.csv', 'w')\n",
    "csvwriter = csv.writer(Patient_data)\n",
    "header_stuff = [\"Fname\", \"Lname\",\"Street Address\", \"City\", \"State\", \"Zip\", \"DOB\", \"Gender\", \"Race\"]\n",
    "csvwriter.writerow(header_stuff)\n",
    "names = []\n",
    "for name in root.findall('.//{urn:hl7-org:v3}patient/{urn:hl7-org:v3}name/{urn:hl7-org:v3}given'):\n",
    "    print(name.text)\n",
    "    names.append(name.text)"
   ]
  },
  {
   "cell_type": "code",
   "execution_count": 5,
   "metadata": {},
   "outputs": [
    {
     "name": "stdout",
     "output_type": "stream",
     "text": [
      "Jones\n"
     ]
    }
   ],
   "source": [
    "for name in root.findall('.//{urn:hl7-org:v3}patient/{urn:hl7-org:v3}name/{urn:hl7-org:v3}family'):\n",
    "    print(name.text)\n",
    "    names.append(name.text)"
   ]
  },
  {
   "cell_type": "code",
   "execution_count": 6,
   "metadata": {},
   "outputs": [],
   "source": [
    "#for name in root.findall('.//{urn:hl7-org:v3}patient/{urn:hl7-org:v3}birthTime'):\n",
    "#    print(name.attrib)"
   ]
  },
  {
   "cell_type": "code",
   "execution_count": 7,
   "metadata": {},
   "outputs": [
    {
     "name": "stdout",
     "output_type": "stream",
     "text": [
      "No Address Indicated\n"
     ]
    }
   ],
   "source": [
    "for name in root.findall('.//{urn:hl7-org:v3}patientRole/{urn:hl7-org:v3}addr/{urn:hl7-org:v3}streetAddressLine'):\n",
    "    print(name.text)\n",
    "    names.append(name.text)"
   ]
  },
  {
   "cell_type": "code",
   "execution_count": 8,
   "metadata": {},
   "outputs": [
    {
     "name": "stdout",
     "output_type": "stream",
     "text": [
      "No City Indicated\n"
     ]
    }
   ],
   "source": [
    "for name in root.findall('.//{urn:hl7-org:v3}patientRole/{urn:hl7-org:v3}addr/{urn:hl7-org:v3}city'):\n",
    "    print(name.text)\n",
    "    names.append(name.text)"
   ]
  },
  {
   "cell_type": "code",
   "execution_count": 9,
   "metadata": {},
   "outputs": [
    {
     "name": "stdout",
     "output_type": "stream",
     "text": [
      "CA\n"
     ]
    }
   ],
   "source": [
    "for name in root.findall('.//{urn:hl7-org:v3}patientRole/{urn:hl7-org:v3}addr/{urn:hl7-org:v3}state'):\n",
    "    print(name.text)\n",
    "    names.append(name.text)"
   ]
  },
  {
   "cell_type": "code",
   "execution_count": 10,
   "metadata": {},
   "outputs": [
    {
     "name": "stdout",
     "output_type": "stream",
     "text": [
      "99999\n"
     ]
    }
   ],
   "source": [
    "for name in root.findall('.//{urn:hl7-org:v3}patientRole/{urn:hl7-org:v3}addr/{urn:hl7-org:v3}postalCode'):\n",
    "    print(name.text)\n",
    "    names.append(name.text)"
   ]
  },
  {
   "cell_type": "code",
   "execution_count": 11,
   "metadata": {},
   "outputs": [
    {
     "name": "stdout",
     "output_type": "stream",
     "text": [
      "19470501\n"
     ]
    }
   ],
   "source": [
    "birth = root.find('.//{urn:hl7-org:v3}patient/{urn:hl7-org:v3}birthTime')\n",
    "print(birth.attrib[\"value\"])\n",
    "names.append(birth.attrib[\"value\"])"
   ]
  },
  {
   "cell_type": "code",
   "execution_count": 12,
   "metadata": {},
   "outputs": [
    {
     "name": "stdout",
     "output_type": "stream",
     "text": [
      "F\n"
     ]
    }
   ],
   "source": [
    "gender = root.find('.//{urn:hl7-org:v3}patient/{urn:hl7-org:v3}administrativeGenderCode')\n",
    "print(gender.attrib[\"code\"])\n",
    "names.append(gender.attrib[\"code\"])"
   ]
  },
  {
   "cell_type": "code",
   "execution_count": 13,
   "metadata": {},
   "outputs": [
    {
     "name": "stdout",
     "output_type": "stream",
     "text": [
      "Caucasian or European American\n"
     ]
    },
    {
     "data": {
      "text/plain": [
       "106"
      ]
     },
     "execution_count": 13,
     "metadata": {},
     "output_type": "execute_result"
    }
   ],
   "source": [
    "race = root.find('.//{urn:hl7-org:v3}patient/{urn:hl7-org:v3}raceCode')\n",
    "print(race.attrib[\"displayName\"])\n",
    "names.append(race.attrib[\"displayName\"])\n",
    "csvwriter.writerow(names)"
   ]
  },
  {
   "cell_type": "code",
   "execution_count": 14,
   "metadata": {},
   "outputs": [],
   "source": [
    "Patient_data = open('xmltocsv.csv', 'w')\n",
    "\n",
    "csvwriter = csv.writer(Patient_data)\n",
    "patient_head = []\n",
    "count = 0\n",
    "\"\"\"\n",
    "for member in root.findall('{urn:hl7-org:v3}patient'):\n",
    "\tpatient = []\n",
    "\taddress_list = []\n",
    "\tif count == 0:\n",
    "\t\tgiven = member.find('{urn:hl7-org:v3}given').tag\n",
    "\t\tpatient_head.append(given)\n",
    "\t\t#csvwriter.writerow(patient_head)\n",
    "\t\tcount = count + 1\n",
    "\n",
    "\tgiven = member.find('{urn:hl7-org:v3}given').text\n",
    "\tpatient.append(given)\n",
    "\tcsvwriter.writerow(resident)\n",
    " \"\"\"\n",
    "Patient_data.close()"
   ]
  },
  {
   "cell_type": "code",
   "execution_count": 15,
   "metadata": {},
   "outputs": [
    {
     "data": {
      "text/html": [
       "<div>\n",
       "<style scoped>\n",
       "    .dataframe tbody tr th:only-of-type {\n",
       "        vertical-align: middle;\n",
       "    }\n",
       "\n",
       "    .dataframe tbody tr th {\n",
       "        vertical-align: top;\n",
       "    }\n",
       "\n",
       "    .dataframe thead th {\n",
       "        text-align: right;\n",
       "    }\n",
       "</style>\n",
       "<table border=\"1\" class=\"dataframe\">\n",
       "  <thead>\n",
       "    <tr style=\"text-align: right;\">\n",
       "      <th></th>\n",
       "      <th>Fname</th>\n",
       "      <th>Lname</th>\n",
       "      <th>Street Address</th>\n",
       "      <th>City</th>\n",
       "      <th>State</th>\n",
       "      <th>Zip</th>\n",
       "      <th>DOB</th>\n",
       "      <th>Gender</th>\n",
       "      <th>Race</th>\n",
       "    </tr>\n",
       "  </thead>\n",
       "  <tbody>\n",
       "    <tr>\n",
       "      <td>0</td>\n",
       "      <td>Isabella</td>\n",
       "      <td>Jones</td>\n",
       "      <td>No Address Indicated</td>\n",
       "      <td>No City Indicated</td>\n",
       "      <td>CA</td>\n",
       "      <td>99999</td>\n",
       "      <td>19470501</td>\n",
       "      <td>F</td>\n",
       "      <td>Caucasian or European American</td>\n",
       "    </tr>\n",
       "  </tbody>\n",
       "</table>\n",
       "</div>"
      ],
      "text/plain": [
       "      Fname  Lname        Street Address               City State    Zip  \\\n",
       "0  Isabella  Jones  No Address Indicated  No City Indicated    CA  99999   \n",
       "\n",
       "        DOB Gender                            Race  \n",
       "0  19470501      F  Caucasian or European American  "
      ]
     },
     "execution_count": 15,
     "metadata": {},
     "output_type": "execute_result"
    }
   ],
   "source": [
    "import pandas as pd\n",
    "df = pd.read_csv('xmltocsv.csv')\n",
    "df.head(1)"
   ]
  }
 ],
 "metadata": {
  "kernelspec": {
   "display_name": "Python 3",
   "language": "python",
   "name": "python3"
  },
  "language_info": {
   "codemirror_mode": {
    "name": "ipython",
    "version": 3
   },
   "file_extension": ".py",
   "mimetype": "text/x-python",
   "name": "python",
   "nbconvert_exporter": "python",
   "pygments_lexer": "ipython3",
   "version": "3.7.4"
  }
 },
 "nbformat": 4,
 "nbformat_minor": 4
}
