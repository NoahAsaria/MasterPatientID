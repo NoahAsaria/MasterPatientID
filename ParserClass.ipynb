{
 "cells": [
  {
   "cell_type": "code",
   "execution_count": 2,
   "metadata": {},
   "outputs": [
    {
     "name": "stdout",
     "output_type": "stream",
     "text": [
      "  First Name Last Name      Street Address       City State    Zip       DOB  \\\n",
      "0   Isabella     Jones  1122 Mystical Rt 3  Beaverton    OR  97005  19470501   \n",
      "\n",
      "  Gender   Race  \n",
      "0      F  White  \n"
     ]
    },
    {
     "data": {
      "text/plain": [
       "{'firstname': ['Isabella'],\n",
       " 'lastname': ['Jones'],\n",
       " 'address': ['1122 Mystical Rt 3', 'Beaverton'],\n",
       " 'state': ['OR'],\n",
       " 'postalcode': ['97005'],\n",
       " 'birthtime': '19470501',\n",
       " 'gender': 'F',\n",
       " 'race': 'White'}"
      ]
     },
     "execution_count": 2,
     "metadata": {},
     "output_type": "execute_result"
    }
   ],
   "source": [
    "from xml.etree import ElementTree\n",
    "import xml.etree.ElementTree as ET\n",
    "import csv\n",
    "import pandas as pd\n",
    "\n",
    "def getRoot(file):\n",
    "    tree = ET.parse(file)\n",
    "    root = tree.getroot()\n",
    "    return root\n",
    "\n",
    "def parseDemographicDataToCSV(file):  \n",
    "    root = getRoot(file)\n",
    "    DemographicsCSV = open('demographic.csv', 'w')\n",
    "    csvwriter = csv.writer(DemographicsCSV)\n",
    "    headers = [\"First Name\", \"Last Name\", \"Street Address\", \"City\", \"State\", \"Zip\", \"DOB\", \"Gender\", \"Race\"]\n",
    "    csvwriter.writerow(headers)\n",
    "    infoList = parseDemographicsListFromRoot(root)\n",
    "    csvwriter.writerow(infoList)\n",
    "    DemographicsCSV.close()\n",
    "    return 'demographic.csv'\n",
    "\n",
    "def parseDemographicsDictFromRoot(root):\n",
    "    names = {}\n",
    "    for name in root.findall('.//{urn:hl7-org:v3}patient/{urn:hl7-org:v3}name/{urn:hl7-org:v3}given'):\n",
    "        names.setdefault('firstname', []).append(name.text)\n",
    "    #Parse last name(s)\n",
    "    for name in root.findall('.//{urn:hl7-org:v3}patient/{urn:hl7-org:v3}name/{urn:hl7-org:v3}family'):\n",
    "        names.setdefault('lastname', []).append(name.text)\n",
    "    #Parse addresses\n",
    "    for name in root.findall('.//{urn:hl7-org:v3}patientRole/{urn:hl7-org:v3}addr/{urn:hl7-org:v3}streetAddressLine'):\n",
    "        names.setdefault('address', []).append(name.text)\n",
    "    #Parse city\n",
    "    for name in root.findall('.//{urn:hl7-org:v3}patientRole/{urn:hl7-org:v3}addr/{urn:hl7-org:v3}city'):\n",
    "        names.setdefault('address', []).append(name.text)\n",
    "    #Parse state\n",
    "    for name in root.findall('.//{urn:hl7-org:v3}patientRole/{urn:hl7-org:v3}addr/{urn:hl7-org:v3}state'):\n",
    "        names.setdefault('state', []).append(name.text)\n",
    "    #Parse postal code\n",
    "    for name in root.findall('.//{urn:hl7-org:v3}patientRole/{urn:hl7-org:v3}addr/{urn:hl7-org:v3}postalCode'):\n",
    "        names.setdefault('postalcode', []).append(name.text)\n",
    "    #Parse birthTime\n",
    "    birth = root.find('.//{urn:hl7-org:v3}patient/{urn:hl7-org:v3}birthTime')\n",
    "    names['birthtime'] = birth.attrib[\"value\"]\n",
    "    #Parse gender\n",
    "    gender = root.find('.//{urn:hl7-org:v3}patient/{urn:hl7-org:v3}administrativeGenderCode')\n",
    "    names['gender'] = gender.attrib[\"code\"]\n",
    "    #Parse race\n",
    "    race = root.find('.//{urn:hl7-org:v3}patient/{urn:hl7-org:v3}raceCode')\n",
    "    names['race'] = race.attrib[\"displayName\"]\n",
    "    return names\n",
    "\n",
    "def parseDemographicsListFromRoot(root):\n",
    "    names = []\n",
    "    #Parse first name(s)\n",
    "    for name in root.findall('.//{urn:hl7-org:v3}patient/{urn:hl7-org:v3}name/{urn:hl7-org:v3}given'):\n",
    "        names.append(name.text)\n",
    "    #Parse last name(s)\n",
    "    for name in root.findall('.//{urn:hl7-org:v3}patient/{urn:hl7-org:v3}name/{urn:hl7-org:v3}family'):\n",
    "        names.append(name.text)\n",
    "    #Parse addresses\n",
    "    for name in root.findall('.//{urn:hl7-org:v3}patientRole/{urn:hl7-org:v3}addr/{urn:hl7-org:v3}streetAddressLine'):\n",
    "        names.append(name.text)\n",
    "    #Parse city\n",
    "    for name in root.findall('.//{urn:hl7-org:v3}patientRole/{urn:hl7-org:v3}addr/{urn:hl7-org:v3}city'):\n",
    "        names.append(name.text)\n",
    "    #Parse state\n",
    "    for name in root.findall('.//{urn:hl7-org:v3}patientRole/{urn:hl7-org:v3}addr/{urn:hl7-org:v3}state'):\n",
    "        names.append(name.text)\n",
    "    #Parse postal code\n",
    "    for name in root.findall('.//{urn:hl7-org:v3}patientRole/{urn:hl7-org:v3}addr/{urn:hl7-org:v3}postalCode'):\n",
    "        names.append(name.text)\n",
    "    #Parse birthTime\n",
    "    birth = root.find('.//{urn:hl7-org:v3}patient/{urn:hl7-org:v3}birthTime')\n",
    "    names.append(birth.attrib[\"value\"])\n",
    "    #Parse gender\n",
    "    gender = root.find('.//{urn:hl7-org:v3}patient/{urn:hl7-org:v3}administrativeGenderCode')\n",
    "    names.append(gender.attrib[\"code\"])\n",
    "    #Parse race\n",
    "    race = root.find('.//{urn:hl7-org:v3}patient/{urn:hl7-org:v3}raceCode')\n",
    "    names.append(race.attrib[\"displayName\"])\n",
    "    return names\n",
    "\n",
    "def printCSV(csv):\n",
    "    df = pd.read_csv(csv)\n",
    "    print(df.head(1))\n",
    "\n",
    "parseDemographicsDictFromRoot(getRoot('IsabellaJones-ReferralSummary.xml'))\n",
    "printCSV(parseDemographicDataToCSV('IsabellaJones-ReferralSummary.xml'))\n",
    "parseDemographicsDictFromRoot(getRoot('IsabellaJones-ReferralSummary.xml'))"
   ]
  },
  {
   "cell_type": "code",
   "execution_count": null,
   "metadata": {},
   "outputs": [],
   "source": []
  },
  {
   "cell_type": "code",
   "execution_count": null,
   "metadata": {},
   "outputs": [],
   "source": []
  }
 ],
 "metadata": {
  "kernelspec": {
   "display_name": "Python 3",
   "language": "python",
   "name": "python3"
  },
  "language_info": {
   "codemirror_mode": {
    "name": "ipython",
    "version": 3
   },
   "file_extension": ".py",
   "mimetype": "text/x-python",
   "name": "python",
   "nbconvert_exporter": "python",
   "pygments_lexer": "ipython3",
   "version": "3.7.4"
  }
 },
 "nbformat": 4,
 "nbformat_minor": 4
}
